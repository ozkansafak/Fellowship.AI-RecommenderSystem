{
 "cells": [
  {
   "cell_type": "code",
   "execution_count": 1,
   "metadata": {},
   "outputs": [
    {
     "name": "stdout",
     "output_type": "stream",
     "text": [
      "[name: \"/cpu:0\"\n",
      "device_type: \"CPU\"\n",
      "memory_limit: 268435456\n",
      "locality {\n",
      "}\n",
      "incarnation: 6934092017798557628\n",
      ", name: \"/gpu:0\"\n",
      "device_type: \"GPU\"\n",
      "memory_limit: 11324823962\n",
      "locality {\n",
      "  bus_id: 1\n",
      "}\n",
      "incarnation: 13692596672806558197\n",
      "physical_device_desc: \"device: 0, name: Tesla K80, pci bus id: 0000:00:1e.0\"\n",
      "]\n",
      "tensorflow version: 1.0.0\n",
      "python version: 3.6.1 |Continuum Analytics, Inc.| (default, May 11 2017, 13:09:58) \n",
      "[GCC 4.4.7 20120313 (Red Hat 4.4.7-1)]\n",
      "python executable location: /home/aind2/anaconda3/envs/aind-dog/bin/python\n"
     ]
    }
   ],
   "source": [
    "# I like to start by checking if the GPU was initiated succesfully,\n",
    "# and by seeing the tensroflow and python versions being used\n",
    "# by the notebook.\n",
    "\n",
    "from tensorflow.python.client import device_lib\n",
    "print(device_lib.list_local_devices())\n",
    "\n",
    "import tensorflow as tf, sys\n",
    "sess = tf.Session(config=tf.ConfigProto(log_device_placement=True))\n",
    "\n",
    "print('tensorflow version: %s' % tf.__version__)\n",
    "print('python version: %s' % sys.version)\n",
    "print('python executable location: %s' % sys.executable)\n",
    "\n",
    "# --------------------------------------------------------------\n",
    "# --------------------------------------------------------------\n",
    "\n",
    "%matplotlib inline\n",
    "%load_ext autoreload\n",
    "%autoreload 2\n",
    "\n",
    "from helpers import *\n",
    "import os, sys, tarfile, time\n",
    "import tensorflow as tf\n",
    "import numpy as np\n",
    "import matplotlib.pyplot as plt\n",
    "import matplotlib.pylab as pylab\n",
    "from matplotlib.ticker import MaxNLocator\n",
    "import pickle\n",
    "\n",
    "params = {'legend.fontsize': 'x-large',\n",
    "          'font.size'      : 11,\n",
    "          'figure.figsize' : (17, 6),\n",
    "          'axes.labelsize' : 'x-large',\n",
    "          'axes.titlesize' : 'x-large',\n",
    "          'axes.grid'      : 'on',\n",
    "          'xtick.labelsize': 'x-large',\n",
    "          'ytick.labelsize': 'x-large'}\n",
    "\n",
    "pylab.rcParams.update(params)\n",
    "\n"
   ]
  },
  {
   "cell_type": "code",
   "execution_count": 2,
   "metadata": {},
   "outputs": [
    {
     "name": "stdout",
     "output_type": "stream",
     "text": [
      "Reading train_*.npy , cv_*.npy , test_*.npy and and u_mean.pkl files....\n",
      "n_movies 27278\n",
      "Runtime: 0 min 6 sec\n"
     ]
    },
    {
     "data": {
      "image/png": "[encoded data removed]",
      "text/plain": [
       "<matplotlib.figure.Figure at 0x7f2d80a01908>"
      ]
     },
     "metadata": {},
     "output_type": "display_data"
    }
   ],
   "source": [
    "# Read Lab41 dataset into:\n",
    "#                          train_Y, cv_Y, test_Y\n",
    "#                          train_Y_indices, cv_Y_indices, test_Y_indices\n",
    "start = time.time()\n",
    "#...................................................\n",
    "train_Y_indices, train_Y, cv_Y_indices, \\\n",
    "        cv_Y, test_Y_indices, test_Y, \\\n",
    "        n_users, n_movies, u_mean_dict, v_mean_dict = read_and_split_data()\n",
    "\n",
    "ax = plt.subplot(131)\n",
    "ax.hist(np.concatenate((train_Y, cv_Y, test_Y)), bins=np.arange(-.25, 5.25, 0.5), alpha=.6, \\\n",
    "         edgecolor='black', linewidth=2, normed=True);\n",
    "ax.set_title('histogram of Lab41 ratings');\n",
    "\n",
    "#...................................................\n",
    "\n",
    "ax = plt.subplot(132)\n",
    "ax.hist((list(u_mean_dict.values())), bins=np.arange(-.25, 5.25, 0.5), alpha=.6, \\\n",
    "        color='red', edgecolor='black', linewidth=2, normed=True);\n",
    "ax.set_title('user mean ratings');\n",
    "\n",
    "ax = plt.subplot(133)\n",
    "\n",
    "ax.hist((list(v_mean_dict.values())), bins=np.arange(-.25, 5.25, 0.5), alpha=.6, \\\n",
    "        color='black', edgecolor='black', linewidth=2, normed=True);\n",
    "ax.set_title('movie mean ratings');\n",
    "\n",
    "print_runtime(start)\n"
   ]
  },
  {
   "cell_type": "code",
   "execution_count": 3,
   "metadata": {},
   "outputs": [
    {
     "name": "stdout",
     "output_type": "stream",
     "text": [
      "Runtime: 0 min 16 sec\n"
     ]
    }
   ],
   "source": [
    "start = time.time()\n",
    "\n",
    "train_u_mean, train_v_mean = get_train_u_mean(train_Y_indices, u_mean_dict, v_mean_dict)\n",
    "\n",
    "print_runtime(start)"
   ]
  },
  {
   "cell_type": "code",
   "execution_count": null,
   "metadata": {},
   "outputs": [
    {
     "name": "stdout",
     "output_type": "stream",
     "text": [
      "\n",
      "NUM_EPOCHS: 10\n",
      "LAMBDA: 0.001\n",
      "k: 10\n",
      "lr: 0.01\n",
      "n_batches: 781\n",
      "BATCH_SIZE: 16384\n",
      "New epoch: 1 ******************************\n",
      "batch_no: 781, _loss estimate: 0.8986, t= 65.25 sec\n",
      "mae_train: 0.6209, **mae_cv: 0.6401**, mae_test: 0.6404,  mean(preds): 3.5150\n",
      "New epoch: 2 ******************************\n",
      "batch_no: 26, _loss estimate: 0.8366, t=  2.10 sec\r"
     ]
    }
   ],
   "source": [
    "# hyperparameters\n",
    "# BATCH_SIZE = 1024*16\n",
    "BATCH_SIZE_arr = [1024*16]\n",
    "# LAMBDA_ARR = [0.0001, 0.0002, 0.0003, 0.0004, 0.0005, 0.0006, 0.0007, 0.0008, 0.0009, 0.001, 0.00125]\n",
    "LAMBDA = 0.001\n",
    "k = 10 # an important hyperparameter.\n",
    "lr = 0.01\n",
    "NUM_EPOCHS = 10\n",
    "if 'out.txt' in os.listdir(): \n",
    "    os.remove('out.txt')\n",
    "    \n",
    "for BATCH_SIZE in BATCH_SIZE_arr:\n",
    "    #.............................................. \n",
    "    train, loss, reg, Y_indices, Y, U, V, Y_pred, UV_xft, UU_xft, VV_xft, u_mean, v_mean = \\\n",
    "                            construct_graph(LAMBDA, k, lr, BATCH_SIZE, n_users, n_movies)\n",
    "    #.............................................. \n",
    "\n",
    "    start = time.time()\n",
    "    mae_train_arr, mae_cv_arr, mae_test_arr, loss_arr, mean_preds, n_batches, preds, \\\n",
    "                   _U, _V, _UV_xft, _UU_xft, _VV_xft = \\\n",
    "                         train_the_model(Y_indices, Y, train_Y_indices, train_Y, BATCH_SIZE, \n",
    "                   NUM_EPOCHS, LAMBDA, k, lr, \n",
    "                   train, loss, reg, U, V, Y_pred,\n",
    "                   cv_Y, cv_Y_indices, test_Y, test_Y_indices,\n",
    "                   UV_xft, UU_xft, VV_xft, \n",
    "                   train_u_mean, train_v_mean, u_mean, v_mean)\n",
    "    #.............................................. \n",
    "    # plotting....\n",
    "    ax1, ax2 = plotter(mae_train_arr, mae_cv_arr, mae_test_arr, loss_arr, BATCH_SIZE)\n",
    "\n",
    "#.............................................. \n",
    "print_runtime(start)"
   ]
  },
  {
   "cell_type": "code",
   "execution_count": null,
   "metadata": {
    "collapsed": true
   },
   "outputs": [],
   "source": []
  },
  {
   "cell_type": "code",
   "execution_count": null,
   "metadata": {
    "collapsed": true
   },
   "outputs": [],
   "source": []
  },
  {
   "cell_type": "code",
   "execution_count": null,
   "metadata": {
    "collapsed": true
   },
   "outputs": [],
   "source": []
  },
  {
   "cell_type": "code",
   "execution_count": null,
   "metadata": {
    "collapsed": true
   },
   "outputs": [],
   "source": []
  },
  {
   "cell_type": "code",
   "execution_count": null,
   "metadata": {
    "collapsed": true
   },
   "outputs": [],
   "source": []
  },
  {
   "cell_type": "code",
   "execution_count": null,
   "metadata": {
    "collapsed": true
   },
   "outputs": [],
   "source": []
  },
  {
   "cell_type": "code",
   "execution_count": null,
   "metadata": {
    "collapsed": true
   },
   "outputs": [],
   "source": []
  },
  {
   "cell_type": "code",
   "execution_count": null,
   "metadata": {
    "collapsed": true
   },
   "outputs": [],
   "source": []
  },
  {
   "cell_type": "code",
   "execution_count": null,
   "metadata": {
    "collapsed": true
   },
   "outputs": [],
   "source": []
  },
  {
   "cell_type": "code",
   "execution_count": null,
   "metadata": {
    "collapsed": true
   },
   "outputs": [],
   "source": []
  },
  {
   "cell_type": "code",
   "execution_count": null,
   "metadata": {
    "collapsed": true
   },
   "outputs": [],
   "source": []
  },
  {
   "cell_type": "code",
   "execution_count": null,
   "metadata": {
    "collapsed": true
   },
   "outputs": [],
   "source": []
  },
  {
   "cell_type": "code",
   "execution_count": null,
   "metadata": {
    "collapsed": true
   },
   "outputs": [],
   "source": []
  },
  {
   "cell_type": "code",
   "execution_count": null,
   "metadata": {
    "collapsed": true
   },
   "outputs": [],
   "source": []
  },
  {
   "cell_type": "code",
   "execution_count": null,
   "metadata": {
    "collapsed": true
   },
   "outputs": [],
   "source": []
  },
  {
   "cell_type": "code",
   "execution_count": null,
   "metadata": {
    "collapsed": true
   },
   "outputs": [],
   "source": []
  },
  {
   "cell_type": "code",
   "execution_count": null,
   "metadata": {
    "collapsed": true
   },
   "outputs": [],
   "source": []
  },
  {
   "cell_type": "code",
   "execution_count": null,
   "metadata": {
    "collapsed": true
   },
   "outputs": [],
   "source": []
  },
  {
   "cell_type": "code",
   "execution_count": null,
   "metadata": {
    "collapsed": true
   },
   "outputs": [],
   "source": []
  },
  {
   "cell_type": "code",
   "execution_count": null,
   "metadata": {
    "collapsed": true
   },
   "outputs": [],
   "source": []
  },
  {
   "cell_type": "code",
   "execution_count": null,
   "metadata": {
    "collapsed": true
   },
   "outputs": [],
   "source": []
  }
 ],
 "metadata": {
  "kernelspec": {
   "display_name": "Python 3",
   "language": "python",
   "name": "python3"
  },
  "language_info": {
   "codemirror_mode": {
    "name": "ipython",
    "version": 3
   },
   "file_extension": ".py",
   "mimetype": "text/x-python",
   "name": "python",
   "nbconvert_exporter": "python",
   "pygments_lexer": "ipython3",
   "version": "3.6.1"
  }
 },
 "nbformat": 4,
 "nbformat_minor": 2
}
