{
 "cells": [
  {
   "cell_type": "code",
   "execution_count": 5,
   "metadata": {},
   "outputs": [
    {
     "name": "stdout",
     "output_type": "stream",
     "text": [
      "[name: \"/cpu:0\"\n",
      "device_type: \"CPU\"\n",
      "memory_limit: 268435456\n",
      "locality {\n",
      "}\n",
      "incarnation: 15424680744613475672\n",
      ", name: \"/gpu:0\"\n",
      "device_type: \"GPU\"\n",
      "memory_limit: 384172032\n",
      "locality {\n",
      "  bus_id: 1\n",
      "}\n",
      "incarnation: 4664460851230771520\n",
      "physical_device_desc: \"device: 0, name: Tesla K80, pci bus id: 0000:00:1e.0\"\n",
      "]\n",
      "\n",
      "........................................\n",
      "\n",
      "tensorflow version: 1.0.0\n",
      "python version: 3.6.1 |Continuum Analytics, Inc.| (default, May 11 2017, 13:09:58) \n",
      "[GCC 4.4.7 20120313 (Red Hat 4.4.7-1)]\n",
      "python executable location: /home/aind2/anaconda3/envs/aind-dog/bin/python\n",
      "The autoreload extension is already loaded. To reload it, use:\n",
      "  %reload_ext autoreload\n"
     ]
    }
   ],
   "source": [
    "# I like to start by checking if the GPU was initiated succesfully,\n",
    "# and by seeing the tensroflow and python versions being used\n",
    "# by the notebook.\n",
    "\n",
    "from tensorflow.python.client import device_lib\n",
    "print(device_lib.list_local_devices())\n",
    "\n",
    "import tensorflow as tf, sys\n",
    "sess = tf.Session(config=tf.ConfigProto(log_device_placement=True))\n",
    "print('\\n' + '..'*20 + '\\n')\n",
    "print('tensorflow version: %s' % tf.__version__)\n",
    "print('python version: %s' % sys.version)\n",
    "print('python executable location: %s' % sys.executable)\n",
    "\n",
    "# --------------------------------------------------------------\n",
    "# --------------------------------------------------------------\n",
    "\n",
    "%matplotlib inline\n",
    "%load_ext autoreload\n",
    "%autoreload 2\n",
    "\n",
    "from helpers import *\n",
    "import os, sys, tarfile, time\n",
    "import tensorflow as tf\n",
    "import numpy as np\n",
    "import matplotlib.pyplot as plt\n",
    "import matplotlib.pylab as pylab\n",
    "from matplotlib.ticker import MaxNLocator\n",
    "\n",
    "params = {'legend.fontsize': 'x-large',\n",
    "          'font.size'      : 11,\n",
    "          'figure.figsize' : (17, 5),\n",
    "          'axes.labelsize' : 'x-large',\n",
    "          'axes.titlesize' : 'x-large',\n",
    "          'axes.grid'      : 'on',\n",
    "          'xtick.labelsize': 'x-large',\n",
    "          'ytick.labelsize': 'x-large'}\n",
    "\n",
    "pylab.rcParams.update(params)\n"
   ]
  },
  {
   "cell_type": "code",
   "execution_count": 7,
   "metadata": {},
   "outputs": [
    {
     "name": "stdout",
     "output_type": "stream",
     "text": [
      "Runtime: 1 min 26 sec\n"
     ]
    }
   ],
   "source": [
    "# Read the Lab41 dataset into \n",
    "# train_Y, cv_Y, test_Y\n",
    "# train_Y_indices, cv_Y_indices, test_Y_indices\n",
    "\n",
    "start = time.time()\n",
    "#...................................................\n",
    "\n",
    "RATINGS_PATH = './data_ml-20m/ratings.csv'\n",
    "MOVIES_PATH = './data_ml-20m/movies.csv'\n",
    "\n",
    "#...................................................\n",
    "\n",
    "with open(RATINGS_PATH) as f:\n",
    "    ratings = f.readlines()\n",
    "\n",
    "with open(MOVIES_PATH) as f:\n",
    "    movies = f.readlines()\n",
    "\n",
    "#...................................................\n",
    "\n",
    "# mapping from movie ID (as described in 'movies.csv'), to index in matrix V\n",
    "from_mID_2_idx = {}\n",
    "for i, row in enumerate(movies[1:]):\n",
    "    mID = int(row.split(',')[0])\n",
    "    from_mID_2_idx[mID] = i\n",
    "    \n",
    "#...................................................\n",
    "\n",
    "n_users = 138493\n",
    "n_movies = len(movies[1:]) # n_movies = 27278\n",
    "\n",
    "N = len(ratings[1:])\n",
    "Y_indices = np.zeros((N,2), dtype=np.int32)\n",
    "Y = np.zeros(N)\n",
    "\n",
    "# Read in Y and Y_indices which concists of all training, cv and test data\n",
    "for i, row in enumerate(ratings[1:]):\n",
    "    uID, mID, yij = [e for e in row.split(',')[:-1]]\n",
    "    u_idx = int(uID) - 1\n",
    "    v_idx = from_mID_2_idx[int(mID)]\n",
    "    yij = float(yij)\n",
    "    \n",
    "    Y_indices[i] = [u_idx, v_idx]\n",
    "    Y[i] = yij\n",
    "\n",
    "    \n",
    "#...................................................\n",
    "\n",
    "# when the indices are not shuffled, U and V matrices get skewed and best mae_cv is about 0.8\n",
    "Y_indices, Y = shuffler(Y_indices, Y)\n",
    "\n",
    "train_Y_indices, train_Y, cv_Y_indices, cv_Y, test_Y_indices, test_Y = split_data(Y_indices, Y)\n",
    "\n",
    "del Y, Y_indices\n",
    "\n",
    "print_runtime(start)"
   ]
  },
  {
   "cell_type": "code",
   "execution_count": 40,
   "metadata": {
    "scrolled": false
   },
   "outputs": [
    {
     "name": "stdout",
     "output_type": "stream",
     "text": [
      "Runtime: 0 min 0 sec\n"
     ]
    }
   ],
   "source": [
    "start = time.time()\n",
    "#..............................................\n",
    "BATCH_SIZE = 1024*16\n",
    "LAMBDA = 0.0000\n",
    "k = 10 # an important hyperparameter.\n",
    "\n",
    "Y = tf.placeholder(dtype=tf.float32, shape=(BATCH_SIZE,))\n",
    "Y_indices = tf.placeholder(dtype=tf.int32, shape=(BATCH_SIZE,2))\n",
    "\n",
    "# initialization of U and V is critical. \n",
    "# set mean=np.sqrt(mu/k) , where mu ~ 3 or 3.5\n",
    "U = tf.Variable(tf.truncated_normal(shape=(n_users,k), mean=np.sqrt(3.5/k), stddev=0.2), dtype=tf.float32)\n",
    "V = tf.Variable(tf.truncated_normal(shape=(n_movies,k), mean=np.sqrt(3.5/k), stddev=0.2), dtype=tf.float32)\n",
    "\n",
    "sliced_U, sliced_V = get_sliced_UV(Y_indices, Y, U, V, k, BATCH_SIZE)\n",
    "\n",
    "#..............................................     \n",
    "\n",
    "# the term `tf.reduce_sum(U**2)` without passing an axis parameter sums up all the elements of matrix U**2.\n",
    "# Return value is a scalar.\n",
    "reg = LAMBDA*(tf.reduce_sum(U**2) + tf.reduce_sum(V**2)) / (BATCH_SIZE*k)\n",
    "\n",
    "# the term `tf.multiply(sliced_U, sliced_V)` is elementwise multiplication.\n",
    "# Applying tf.reduce_sum(M, axis=1)--where M is a matrix--will sum all rows and return a column vector.\n",
    "# Here, Y_pred is a column vector of ratings corresponding to Y_indices\n",
    "Y_pred = tf.reduce_sum(tf.multiply(sliced_U, sliced_V), axis=1)\n",
    "\n",
    "# define loss function as square of L2-norm of difference btw actual and predicted ratings\n",
    "loss = tf.sqrt(tf.reduce_sum((Y - Y_pred)**2)/BATCH_SIZE) + reg\n",
    "\n",
    "# Define train op.\n",
    "lr = 0.01\n",
    "train = tf.train.AdamOptimizer(learning_rate=lr).minimize(loss)\n",
    "\n",
    "#.............................................. \n",
    "print_runtime(start) "
   ]
  },
  {
   "cell_type": "code",
   "execution_count": 74,
   "metadata": {
    "scrolled": false
   },
   "outputs": [],
   "source": [
    "start = time.time()\n",
    "#.............................................. \n",
    "NUM_EPOCHS = 10\n",
    "n_batches = len(train_Y) // BATCH_SIZE\n",
    "init = tf.global_variables_initializer()\n",
    "batch = Batch(train_Y_indices, train_Y, BATCH_SIZE=BATCH_SIZE)\n",
    "epoch_end = time.time()\n",
    "batch_no = 0\n",
    "_loss = 0\n",
    "mae_cv_arr = []\n",
    "loss_arr = []\n",
    "print('n_batches: {}, k: {}, lr: {}'.format(n_batches,k,lr))\n",
    "fig = plt.figure()\n",
    "ax1 = fig.add_subplot(121)\n",
    "ax2 = fig.add_subplot(122)\n",
    "\n",
    "with tf.Session() as sess:\n",
    "    sess.run(init)\n",
    "    while not (batch.epoch == NUM_EPOCHS and batch.last_batch==True):\n",
    "        batch_Y_indices, batch_Y = batch.next()\n",
    "        if not batch.broken:\n",
    "            batch_no += 1\n",
    "            # _lb is batch loss\n",
    "            _, _lb = sess.run([train, loss], \n",
    "                                      feed_dict={Y_indices : batch_Y_indices, Y : batch_Y})\n",
    "            \n",
    "            _loss += _lb\n",
    "            print(\"batch_no: {}, _loss estimate: {:6.4f}, time:{:6.2f} sec\".format(batch_no, _loss/batch_no, time.time()-epoch_end), end='\\r') \n",
    "            \n",
    "        if batch.last_batch: \n",
    "            # fetch the state of U, V matrices at current epoch\n",
    "            _U, _V = sess.run([U, V]) \n",
    "            preds, _mae_cv = evaluate(cv_Y, cv_Y_indices, _U, _V, BATCH_SIZE)\n",
    "            _, _mae_test = evaluate(test_Y, test_Y_indices, _U, _V, BATCH_SIZE)\n",
    "            mae_cv_arr.append(_mae_cv)\n",
    "            loss_arr.append(_loss/n_batches)\n",
    "            mean_preds = np.mean(preds)\n",
    "\n",
    "            # printing....\n",
    "            print('\\n_mae_cv: %6.4f, _mae_test: %6.4f, mean_preds: %6.4f' % (_mae_cv, _mae_test, mean_preds))\n",
    "            print('(reg/_loss) fraction: %6.4f' %(sess.run(reg/_loss)))\n",
    "\n",
    "            # plotting...\n",
    "            ax1.cla()\n",
    "            ax1.plot(range(1,batch.epoch+1), mae_cv_arr, 'bd-', alpha=.6);\n",
    "            ax2.cla()\n",
    "            ax2.plot(range(1,batch.epoch+1), loss_arr, 'bd-', alpha=.6);\n",
    "            ax1.set_title('MAE (cv)')\n",
    "            ax2.set_title('Training Loss')\n",
    "            ax1.set_xlabel('epochs')\n",
    "            ax2.set_xlabel('epochs')\n",
    "\n",
    "            i_min = np.argmin(mae_cv_arr)\n",
    "            ax1.plot(i_min+1,mae_cv_arr[i_min], 'ro', markersize=13,\n",
    "            markeredgewidth=2,\n",
    "            markerfacecolor='None')\n",
    "\n",
    "\n",
    "            # resetting some iteration variables...\n",
    "            batch_no = 0\n",
    "            _loss = 0\n",
    "            epoch_end = time.time()\n",
    "\n",
    "#.............................................. \n",
    "print_runtime(start)"
   ]
  },
  {
   "cell_type": "code",
   "execution_count": 73,
   "metadata": {},
   "outputs": [
    {
     "data": {
      "text/plain": [
       "[<matplotlib.lines.Line2D at 0x7f7b3d902e48>]"
      ]
     },
     "execution_count": 73,
     "metadata": {},
     "output_type": "execute_result"
    },
    {
     "data": {
      "image/png": "[encoded data removed]",
      "text/plain": [
       "<matplotlib.figure.Figure at 0x7f7b3dba21d0>"
      ]
     },
     "metadata": {},
     "output_type": "display_data"
    }
   ],
   "source": [
    "fig = plt.figure()\n",
    "ax1 = fig.add_subplot(121)\n",
    "ax2 = fig.add_subplot(122)\n",
    "\n",
    "ax1.cla()\n",
    "ax1.plot(range(1,batch.epoch+1), mae_cv_arr, 'bd-', alpha=.6);\n",
    "ax2.cla()\n",
    "ax2.plot(range(1,batch.epoch+1), loss_arr, 'bd-', alpha=.6);\n",
    "ax1.set_title('MAE (cv)')\n",
    "ax2.set_title('Training Loss')\n",
    "ax1.set_xlabel('epochs')\n",
    "ax2.set_xlabel('epochs')\n",
    "\n",
    "i_min = np.argmin(mae_cv_arr)\n",
    "ax1.plot(i_min+1,mae_cv_arr[i_min], 'ro', markersize=13,\n",
    "markeredgewidth=2,\n",
    "markerfacecolor='None')\n"
   ]
  },
  {
   "cell_type": "code",
   "execution_count": null,
   "metadata": {
    "collapsed": true
   },
   "outputs": [],
   "source": []
  },
  {
   "cell_type": "code",
   "execution_count": null,
   "metadata": {
    "collapsed": true
   },
   "outputs": [],
   "source": []
  },
  {
   "cell_type": "code",
   "execution_count": null,
   "metadata": {
    "collapsed": true
   },
   "outputs": [],
   "source": []
  },
  {
   "cell_type": "code",
   "execution_count": null,
   "metadata": {
    "collapsed": true
   },
   "outputs": [],
   "source": []
  },
  {
   "cell_type": "code",
   "execution_count": null,
   "metadata": {
    "collapsed": true
   },
   "outputs": [],
   "source": []
  },
  {
   "cell_type": "code",
   "execution_count": null,
   "metadata": {
    "collapsed": true
   },
   "outputs": [],
   "source": []
  },
  {
   "cell_type": "code",
   "execution_count": null,
   "metadata": {
    "collapsed": true
   },
   "outputs": [],
   "source": []
  },
  {
   "cell_type": "code",
   "execution_count": null,
   "metadata": {
    "collapsed": true
   },
   "outputs": [],
   "source": []
  },
  {
   "cell_type": "code",
   "execution_count": null,
   "metadata": {
    "collapsed": true
   },
   "outputs": [],
   "source": []
  },
  {
   "cell_type": "code",
   "execution_count": null,
   "metadata": {
    "collapsed": true
   },
   "outputs": [],
   "source": []
  },
  {
   "cell_type": "code",
   "execution_count": null,
   "metadata": {
    "collapsed": true
   },
   "outputs": [],
   "source": []
  }
 ],
 "metadata": {
  "kernelspec": {
   "display_name": "Python 3",
   "language": "python",
   "name": "python3"
  },
  "language_info": {
   "codemirror_mode": {
    "name": "ipython",
    "version": 3
   },
   "file_extension": ".py",
   "mimetype": "text/x-python",
   "name": "python",
   "nbconvert_exporter": "python",
   "pygments_lexer": "ipython3",
   "version": "3.6.1"
  }
 },
 "nbformat": 4,
 "nbformat_minor": 2
}
